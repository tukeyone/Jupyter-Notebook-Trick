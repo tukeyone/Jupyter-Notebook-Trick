{
 "cells": [
  {
   "cell_type": "markdown",
   "metadata": {},
   "source": [
    "### 1. PPT使用"
   ]
  },
  {
   "cell_type": "code",
   "execution_count": null,
   "metadata": {},
   "outputs": [],
   "source": [
    "pip install jupyter    # or python -m pip install jupyter \n",
    "\n",
    "pip install RISE    # https://github.com/damianavila/RISE\n",
    "jupyter-nbextension install rise --py --sys-prefix\n",
    "jupyter-nbextension enable rise --py --sys-prefix\n",
    "\n",
    "jupyter notebook    # 换到切项目根目录下执行"
   ]
  },
  {
   "cell_type": "markdown",
   "metadata": {},
   "source": [
    "### 2. 加载或删除其他环境"
   ]
  },
  {
   "cell_type": "code",
   "execution_count": null,
   "metadata": {},
   "outputs": [],
   "source": [
    "# 如果我们希望使用其他环境，需要导入其他环境到kernel中来。就需要用到以下命令：\n",
    "\n",
    "# 1）查看jupyter notebook kernel指令\n",
    "jupyter kernelspec list\n",
    "# 2）为jupyter notebook 添加新的kernel\n",
    "python -m ipykernel install --name kernelname\n",
    "# 3）删除notebook kernel\n",
    "jupyter kernelspec remove kernelname"
   ]
  },
  {
   "cell_type": "markdown",
   "metadata": {},
   "source": [
    "### 3. Jupyter路径设置"
   ]
  },
  {
   "cell_type": "markdown",
   "metadata": {},
   "source": [
    "1.从\"jupyter notebook.exe\"的原始文件向桌面发送建立快捷方式；\n",
    "\n",
    "2.打开快捷方式的\"属性\",将\"起始位置\"改为自定义路径。\n"
   ]
  },
  {
   "cell_type": "markdown",
   "metadata": {},
   "source": [
    "#### cmd命令下Python版本切换"
   ]
  },
  {
   "cell_type": "markdown",
   "metadata": {},
   "source": [
    "1.将anaconda3文件夹下python.exe改名为Python3.exe，再将该文件的路径加入到环境变量的path路径里（Python2可不变）；\n",
    "\n",
    "2.cmd 分别输入 python、python3试试。"
   ]
  },
  {
   "cell_type": "markdown",
   "metadata": {},
   "source": [
    "#### 不同Python版本上库的加载"
   ]
  },
  {
   "cell_type": "markdown",
   "metadata": {},
   "source": [
    "1.在不同版本的Anaconda Prompt命令行\"conda install XXX\"/\"conda list\""
   ]
  },
  {
   "cell_type": "markdown",
   "metadata": {},
   "source": [
    "### 4. 让R语言在Jupyter Notebook上运行起来——IRkernel\n",
    "\n",
    "\n",
    "参考文献：https://github.com/IRkernel/IRkernel"
   ]
  },
  {
   "cell_type": "markdown",
   "metadata": {},
   "source": [
    "Step1：在R中安装必备包"
   ]
  },
  {
   "cell_type": "code",
   "execution_count": 1,
   "metadata": {
    "collapsed": true
   },
   "outputs": [],
   "source": [
    "# install.packages(c('repr', 'IRdisplay', 'evaluate', 'crayon', 'pbdZMQ', 'devtools', 'uuid', 'digest'))\n",
    "library(devtools)"
   ]
  },
  {
   "cell_type": "markdown",
   "metadata": {},
   "source": [
    "Step2-1：在R中安装内核包（IRkernel）"
   ]
  },
  {
   "cell_type": "code",
   "execution_count": 18,
   "metadata": {},
   "outputs": [
    {
     "name": "stderr",
     "output_type": "stream",
     "text": [
      "Skipping install of 'IRkernel' from a github remote, the SHA1 (dfa7f4ef) has not changed since last install.\n",
      "  Use `force = TRUE` to force installation\n"
     ]
    }
   ],
   "source": [
    "install_github(\"IRkernel/IRkernel\")\n",
    "# install_github(\"IRkernel/IRkernel\",host = \"https://api.github.com\",quiet = FALSE)\n",
    "\n",
    "#遇到\"Problem with the SSL CA cert (path? access rights?\"问题时候执行\n",
    "library(httr)\n",
    "set_config(config( ssl_verifypeer = 0L ))"
   ]
  },
  {
   "cell_type": "markdown",
   "metadata": {},
   "source": [
    "Step3：在R中安装必备包\n",
    "\n",
    "连接R与jupyter，在R Console中输入："
   ]
  },
  {
   "cell_type": "code",
   "execution_count": 16,
   "metadata": {
    "collapsed": true
   },
   "outputs": [],
   "source": [
    "IRkernel::installspec(user = FALSE)\n",
    "# IRkernel::installspec(name = 'ir33', displayname = 'R 3.3')\n",
    "IRkernel::installspec( displayname = 'R 3.4.4 ')"
   ]
  },
  {
   "cell_type": "code",
   "execution_count": 1,
   "metadata": {},
   "outputs": [],
   "source": [
    "# jupyter kernelspec list\n",
    "# jupyter kernelspec remove ir"
   ]
  },
  {
   "cell_type": "markdown",
   "metadata": {},
   "source": [
    "# Now：打开你的jupyter notebook,新建文档即可！\n",
    "```\n",
    "#python2需要输入：\n",
    "ipython notebook --KernelManager.kernel_cmd=\"['R', '-e', 'IRkernel::main()', '--args', '{connection_file}']\"\n",
    "```"
   ]
  },
  {
   "cell_type": "markdown",
   "metadata": {},
   "source": [
    "### 4. 让Julia语言在Jupyter Notebook上运行起来——IJulia\n",
    "\n",
    "\n",
    "http://www.tuicool.com/articles/qMFVf2"
   ]
  },
  {
   "cell_type": "markdown",
   "metadata": {},
   "source": [
    "https://julialang.org/downloads/"
   ]
  },
  {
   "cell_type": "markdown",
   "metadata": {},
   "source": [
    "https://julialang.org"
   ]
  },
  {
   "cell_type": "code",
   "execution_count": null,
   "metadata": {},
   "outputs": [],
   "source": [
    "conda install jinja2 tornado pyzmq\n",
    "\n",
    "Pkg.add(\"IJulia\")"
   ]
  },
  {
   "cell_type": "markdown",
   "metadata": {},
   "source": [
    "# lib路径"
   ]
  },
  {
   "cell_type": "code",
   "execution_count": 2,
   "metadata": {},
   "outputs": [
    {
     "data": {
      "text/html": [
       "<ol class=list-inline>\n",
       "\t<li>'C:/Users/DELL/Documents/R/win-library/3.4'</li>\n",
       "\t<li>'D:/data/R/R-3.4.4/library'</li>\n",
       "</ol>\n"
      ],
      "text/latex": [
       "\\begin{enumerate*}\n",
       "\\item 'C:/Users/DELL/Documents/R/win-library/3.4'\n",
       "\\item 'D:/data/R/R-3.4.4/library'\n",
       "\\end{enumerate*}\n"
      ],
      "text/markdown": [
       "1. 'C:/Users/DELL/Documents/R/win-library/3.4'\n",
       "2. 'D:/data/R/R-3.4.4/library'\n",
       "\n",
       "\n"
      ],
      "text/plain": [
       "[1] \"C:/Users/DELL/Documents/R/win-library/3.4\"\n",
       "[2] \"D:/data/R/R-3.4.4/library\"                "
      ]
     },
     "metadata": {},
     "output_type": "display_data"
    }
   ],
   "source": [
    ".libPaths()"
   ]
  },
  {
   "cell_type": "code",
   "execution_count": 3,
   "metadata": {
    "collapsed": true
   },
   "outputs": [],
   "source": [
    ".libPaths(\"D:/data/R/R-3.4.4/library\" )"
   ]
  },
  {
   "cell_type": "code",
   "execution_count": null,
   "metadata": {
    "collapsed": true
   },
   "outputs": [],
   "source": [
    ".libPaths()\n",
    "[1] \"C:/Users/DELL/Documents/R/win-library/3.4\"\n",
    "[2] \"D:/data/R/R-3.4.4/library\"                \n",
    ".libPaths(\"D:/data/R/R-3.4.4/library\" )"
   ]
  }
 ],
 "metadata": {
  "kernelspec": {
   "display_name": "Python 3",
   "language": "python",
   "name": "python3"
  },
  "language_info": {
   "codemirror_mode": {
    "name": "ipython",
    "version": 3
   },
   "file_extension": ".py",
   "mimetype": "text/x-python",
   "name": "python",
   "nbconvert_exporter": "python",
   "pygments_lexer": "ipython3",
   "version": "3.6.4"
  }
 },
 "nbformat": 4,
 "nbformat_minor": 2
}
